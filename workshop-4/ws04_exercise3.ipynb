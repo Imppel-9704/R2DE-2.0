{
 "cells": [
  {
   "cell_type": "code",
   "execution_count": null,
   "metadata": {},
   "outputs": [],
   "source": [
    "from airflow.models import DAG\n",
    "from airflow.operators.dummy import DummyOperator\n",
    "from airflow.utils.dates import days_ago\n",
    "\n",
    "\n",
    "with DAG(\n",
    "    \"exercise3_fan_in_dag\",\n",
    "    start_date=days_ago(1),\n",
    "    schedule_interval=None,\n",
    "    tags=[\"exercise\"]\n",
    ") as dag:\n",
    "\n",
    "    # Exercise3: Fan-in Pipeline\n",
    "    # ใน exercise นี้จะได้รู้จักการเขียน task ใน pipeline ขั้นตอนเยอะขึ้น\n",
    "    # ใช้ DummyOperator เป็น task จำลอง\n",
    "    \n",
    "    t0 = DummyOperator(task_id=\"task_0\")\n",
    "    t1 = DummyOperator(task_id=\"task_1\")\n",
    "    t2 = DummyOperator(task_id=\"task_2\")\n",
    "    t3 = DummyOperator(task_id=\"task_3\")\n",
    "    t4 = DummyOperator(task_id=\"task_4\")\n",
    "    t5 = DummyOperator(task_id=\"task_5\")\n",
    "    t6 = DummyOperator(task_id=\"task_6\")\n",
    "\n",
    "    [t0, t1, t2] >> t4\n",
    "    [t3, t4, t5] >> t6\n",
    "    \n",
    "    # TODO: สร้าง DummyOperator เพื่อสร้าง dependency ที่ซับซ้อน\n",
    "    "
   ]
  },
  {
   "cell_type": "code",
   "execution_count": null,
   "metadata": {},
   "outputs": [],
   "source": [
    "# Try task with Loop\n",
    "\n",
    "from airflow.models import DAG\n",
    "from airflow.operators.dummy import DummyOperator\n",
    "from airflow.operators.bash import BashOperator\n",
    "from airflow.utils.dates import days_ago\n",
    "\n",
    "with DAG(\n",
    "    \"exercise3_fan_in_dag_with_loop\",\n",
    "    start_date=days_ago(1),\n",
    "    schedule_interval=None,\n",
    "    tags=[\"exercise\"]\n",
    ") as dag:\n",
    "\n",
    "    t = [DummyOperator(task_id=f\"task_{1}\") for i in range(7)]\n",
    "\n",
    "    [t[0], t[1], t[2]] >> t[4]\n",
    "    [t[3], t[4], t[5]] >> t[6]"
   ]
  }
 ],
 "metadata": {
  "language_info": {
   "name": "python"
  },
  "orig_nbformat": 4
 },
 "nbformat": 4,
 "nbformat_minor": 2
}
