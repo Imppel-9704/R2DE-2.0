{
 "cells": [
  {
   "cell_type": "code",
   "execution_count": null,
   "metadata": {},
   "outputs": [],
   "source": [
    "import datetime\n",
    "\n",
    "from airflow.models import DAG\n",
    "from airflow.operators.python import PythonOperator\n",
    "from airflow.operators.bash import BashOperator\n",
    "from airflow.utils.dates import days_ago\n",
    "\n",
    "default_args = {\n",
    "    'owner': 'datath',\n",
    "}\n",
    "\n",
    "\n",
    "def my_function(something: str):\n",
    "    print(something)\n",
    "\n",
    "\n",
    "with DAG(\n",
    "    \"exercise2_fan_out_dag\",\n",
    "    start_date=days_ago(1),\n",
    "    schedule_interval=None,\n",
    "    tags=[\"exercise\"]\n",
    ") as dag:\n",
    "    \n",
    "    # Exercise2: Fan-out Pipeline\n",
    "    # ใน exercise นี้จะได้รู้จักกับการแยก pipeline ออกเพื่อให้ทำงานแบบ parallel พร้อมกันได้\n",
    "    # และทดลองใช้คำสั่ง gsutil จาก BashOperator\n",
    "\n",
    "    t1 = PythonOperator(\n",
    "        task_id=\"print_hello\",\n",
    "        python_callable=my_function,\n",
    "        op_kwargs={\"something\": \"Hello World!\"},\n",
    "    )\n",
    "\n",
    "    t2 = BashOperator(\n",
    "        task_id=\"print_date\",\n",
    "        bash_command=\"echo $(date)\",\n",
    "    )\n",
    "\n",
    "    t3 = BashOperator(\n",
    "        task_id=\"list_file_gcs\",\n",
    "        bash_command=\"gsutil ls gs://asia-southeast1-ws4-airflow-2b51942a-bucket/dags\"\n",
    "    )\n",
    "\n",
    "    #TODO: ใส่ task t3 สำหรับ list ไฟล์ใน GCS bucket ที่เป็น DAGs folder\n",
    "    #hint: ใช้ BashOperator ร่วมกับ command gsutil\n",
    "\n",
    "    t1 >> [t2, t3]\n",
    "    \n",
    "    # TODO: ใส่ task dependencies ที่ทำให้รัน t3 พร้อมกับ t2 ได้"
   ]
  }
 ],
 "metadata": {
  "language_info": {
   "name": "python"
  },
  "orig_nbformat": 4
 },
 "nbformat": 4,
 "nbformat_minor": 2
}
